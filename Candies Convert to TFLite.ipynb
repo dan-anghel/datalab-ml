{
 "cells": [
  {
   "cell_type": "markdown",
   "metadata": {
    "deletable": true,
    "editable": true
   },
   "source": [
    "# Convert to TFLite"
   ]
  },
  {
   "cell_type": "code",
   "execution_count": null,
   "metadata": {
    "collapsed": false
   },
   "outputs": [],
   "source": [
    "project_id = datalab_project_id()\n",
    "bucket = 'gs://%s-image-classifier-lite' % project_id\n",
    "!gsutil mb $bucket"
   ]
  },
  {
   "cell_type": "code",
   "execution_count": null,
   "metadata": {
    "collapsed": false,
    "deletable": true,
    "editable": true
   },
   "outputs": [],
   "source": [
    "import tensorflow as tf\n",
    "from tensorflow.python.platform import gfile\n",
    "\n",
    "\n",
    "def load_graph(graph_filename):\n",
    "  with tf.gfile.GFile(graph_filename, \"rb\") as f:\n",
    "    graph_def = tf.GraphDef()\n",
    "    graph_def.ParseFromString(f.read())\n",
    "  with tf.Graph().as_default() as graph:\n",
    "    tf.import_graph_def(\n",
    "      graph_def,\n",
    "      input_map=None,\n",
    "      return_elements=None,\n",
    "      name=\"prefix\",\n",
    "      op_dict=None,\n",
    "      producer_op_list=None)\n",
    "  input_tensor = graph.get_tensor_by_name('prefix/input:0') #input tensor\n",
    "  output_tensor = graph.get_tensor_by_name('prefix/final_result:0') #output tensor\n",
    "  return graph, input_tensor, output_tensor\n",
    "\n",
    "\n",
    "def convert_graph(graph, input_tensor, output_tensor, lite_file):\n",
    "  with tf.Session(graph=graph) as sess:\n",
    "    tflite_model = tf.contrib.lite.toco_convert(sess.graph_def,\n",
    "                                                [input_tensor],\n",
    "                                                [output_tensor])\n",
    "    with gfile.GFile(lite_file, \"wb\") as timeline_file:\n",
    "      timeline_file.write(tflite_model)\n",
    "\n",
    "\n",
    "tf.logging.set_verbosity(tf.logging.DEBUG)\n",
    "\n",
    "model_file = 'gs://candies-ml/model/v2/retrained_graph.pb'\n",
    "graph, input_tensor, output_tensor = load_graph(model_file)\n",
    "\n",
    "lite_file = '%s/retrained_graph.lite' % bucket\n",
    "convert_graph(graph, input_tensor, output_tensor, lite_file)\n",
    "\n",
    "labels_file = 'gs://candies-ml/model/v2/retrained_labels.txt'\n",
    "!gsutil cp $labels_file $bucket"
   ]
  }
 ],
 "metadata": {
  "kernelspec": {
   "display_name": "Python 2",
   "language": "python",
   "name": "python2"
  },
  "language_info": {
   "codemirror_mode": {
    "name": "ipython",
    "version": 2
   },
   "file_extension": ".py",
   "mimetype": "text/x-python",
   "name": "python",
   "nbconvert_exporter": "python",
   "pygments_lexer": "ipython2",
   "version": "2.7.15"
  }
 },
 "nbformat": 4,
 "nbformat_minor": 2
}
