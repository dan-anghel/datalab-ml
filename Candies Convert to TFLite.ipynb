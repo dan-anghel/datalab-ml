{
 "cells": [
  {
   "cell_type": "markdown",
   "metadata": {
    "deletable": true,
    "editable": true
   },
   "source": [
    "# Convert to TFLite\n",
    "\n",
    "References\n",
    "* TensorFlow Lite (TFLite) [developer guide](https://www.tensorflow.org/mobile/tflite/devguide)\n",
    "* TFLite Optimizing Converter (TOCO) [Python API](https://www.tensorflow.org/api_docs/python/tf/contrib/lite/toco_convert)\n",
    "* TOCO [Python API documentation](https://github.com/tensorflow/tensorflow/blob/master/tensorflow/contrib/lite/toco/g3doc/python_api.md)\n",
    "* TOCO [command-line examples](https://github.com/tensorflow/tensorflow/blob/master/tensorflow/contrib/lite/toco/g3doc/cmdline_examples.md)\n",
    "* Converting a SavedModel to TFLite [howto](https://github.com/tensorflow/tensorflow/blob/master/tensorflow/python/saved_model/README.md)"
   ]
  },
  {
   "cell_type": "markdown",
   "metadata": {
    "deletable": true,
    "editable": true
   },
   "source": [
    "## Preliminaries"
   ]
  },
  {
   "cell_type": "code",
   "execution_count": null,
   "metadata": {
    "collapsed": false,
    "deletable": true,
    "editable": true
   },
   "outputs": [],
   "source": [
    "project_id = datalab_project_id()\n",
    "bucket = 'gs://%s-image-classifier-lite' % project_id\n",
    "!gsutil mb $bucket"
   ]
  },
  {
   "cell_type": "markdown",
   "metadata": {
    "deletable": true,
    "editable": true
   },
   "source": [
    "## Load the trained graph"
   ]
  },
  {
   "cell_type": "code",
   "execution_count": null,
   "metadata": {
    "collapsed": false,
    "deletable": true,
    "editable": true
   },
   "outputs": [],
   "source": [
    "import tensorflow as tf\n",
    "from tensorflow.python.platform import gfile\n",
    "\n",
    "\n",
    "def load_graph(graph_filename):\n",
    "  with tf.gfile.GFile(graph_filename, \"rb\") as f:\n",
    "    graph_def = tf.GraphDef()\n",
    "    graph_def.ParseFromString(f.read())\n",
    "  with tf.Graph().as_default() as graph:\n",
    "    tf.import_graph_def(\n",
    "      graph_def,\n",
    "      input_map=None,\n",
    "      return_elements=None,\n",
    "      name=\"prefix\",\n",
    "      op_dict=None,\n",
    "      producer_op_list=None)\n",
    "  input_tensor = graph.get_tensor_by_name('prefix/input:0') #input tensor\n",
    "  output_tensor = graph.get_tensor_by_name('prefix/final_result:0') #output tensor\n",
    "  return graph, input_tensor, output_tensor"
   ]
  },
  {
   "cell_type": "markdown",
   "metadata": {
    "deletable": true,
    "editable": true
   },
   "source": [
    "## Exercise: Convert the graph to TFLite format"
   ]
  },
  {
   "cell_type": "code",
   "execution_count": null,
   "metadata": {
    "collapsed": true,
    "deletable": true,
    "editable": true
   },
   "outputs": [],
   "source": [
    "def convert_graph(frozen_graph,\n",
    "                  input_tensor,\n",
    "                  output_tensor,\n",
    "                  lite_file):\n",
    "  with tf.Session(graph=frozen_graph) as sess:\n",
    "    # Following the TOCO Python API documentation (see below)\n",
    "    # convert the trained model to TFLite format and save it \n",
    "    # into the 'lite_file' file.\n",
    "    # Documentation: https://github.com/tensorflow/tensorflow/blob/master/tensorflow/contrib/lite/toco/g3doc/python_api.md \n",
    "    # <YOUR CODE HERE>\n",
    "    raise NotImplementedError()"
   ]
  },
  {
   "cell_type": "markdown",
   "metadata": {
    "deletable": true,
    "editable": true
   },
   "source": [
    "## Solution\n",
    "Display the content of the box below to see the solution to the exercise."
   ]
  },
  {
   "cell_type": "code",
   "execution_count": null,
   "metadata": {
    "codeCollapsed": true,
    "collapsed": true,
    "deletable": true,
    "editable": true
   },
   "outputs": [],
   "source": [
    "def convert_graph(frozen_graph,\n",
    "                  input_tensor,\n",
    "                  output_tensor,\n",
    "                  lite_file):\n",
    "  with tf.Session(graph=graph) as sess:\n",
    "    tflite_model = tf.contrib.lite.toco_convert(sess.graph_def,\n",
    "                                                [input_tensor],\n",
    "                                                [output_tensor])\n",
    "    with gfile.GFile(lite_file, \"wb\") as timeline_file:\n",
    "      timeline_file.write(tflite_model)"
   ]
  },
  {
   "cell_type": "markdown",
   "metadata": {
    "deletable": true,
    "editable": true
   },
   "source": [
    "## Run the conversion"
   ]
  },
  {
   "cell_type": "code",
   "execution_count": null,
   "metadata": {
    "collapsed": false,
    "deletable": true,
    "editable": true
   },
   "outputs": [],
   "source": [
    "tf.logging.set_verbosity(tf.logging.DEBUG)\n",
    "\n",
    "model_file = 'gs://candies-ml/model/v2/retrained_graph.pb'\n",
    "graph, input_tensor, output_tensor = load_graph(model_file)\n",
    "\n",
    "lite_file = '%s/retrained_graph.lite' % bucket\n",
    "convert_graph(graph, input_tensor, output_tensor, lite_file)\n",
    "\n",
    "labels_file = 'gs://candies-ml/model/v2/retrained_labels.txt'\n",
    "!gsutil cp $labels_file $bucket"
   ]
  }
 ],
 "metadata": {
  "kernelspec": {
   "display_name": "Python 2",
   "language": "python",
   "name": "python2"
  },
  "language_info": {
   "codemirror_mode": {
    "name": "ipython",
    "version": 2
   },
   "file_extension": ".py",
   "mimetype": "text/x-python",
   "name": "python",
   "nbconvert_exporter": "python",
   "pygments_lexer": "ipython2",
   "version": "2.7.15"
  }
 },
 "nbformat": 4,
 "nbformat_minor": 2
}
